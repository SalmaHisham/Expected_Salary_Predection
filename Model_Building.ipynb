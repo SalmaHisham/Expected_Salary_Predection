{
 "cells": [
  {
   "cell_type": "code",
   "execution_count": 1,
   "metadata": {},
   "outputs": [],
   "source": [
    "import numpy as np \n",
    "import pandas as pd \n",
    "# visulaization\n",
    "import matplotlib.pyplot as plt\n",
    "import seaborn as sns\n",
    "#for Normalization\n",
    "from sklearn.preprocessing import MinMaxScaler, RobustScaler, StandardScaler\n",
    "#handling categorical feature\n",
    "from sklearn.preprocessing import LabelEncoder, OneHotEncoder, OrdinalEncoder\n",
    "#for QQplot\n",
    "import statsmodels.api as sm\n",
    "#spliting data\n",
    "from sklearn.model_selection import train_test_split\n",
    "#evaluating models\n",
    "from sklearn.metrics import r2_score\n",
    "#check normality\n",
    "from scipy.stats import shapiro\n",
    "\n",
    "\n",
    "from sklearn.ensemble import RandomForestRegressor\n",
    "from sklearn.tree import DecisionTreeRegressor\n",
    "\n",
    "\n",
    "from sklearn.model_selection import GridSearchCV\n",
    "from sklearn.metrics import make_scorer"
   ]
  },
  {
   "cell_type": "markdown",
   "metadata": {},
   "source": [
    "# `01` Load The Data"
   ]
  },
  {
   "cell_type": "code",
   "execution_count": 2,
   "metadata": {},
   "outputs": [
    {
     "data": {
      "text/html": [
       "<div>\n",
       "<style scoped>\n",
       "    .dataframe tbody tr th:only-of-type {\n",
       "        vertical-align: middle;\n",
       "    }\n",
       "\n",
       "    .dataframe tbody tr th {\n",
       "        vertical-align: top;\n",
       "    }\n",
       "\n",
       "    .dataframe thead th {\n",
       "        text-align: right;\n",
       "    }\n",
       "</style>\n",
       "<table border=\"1\" class=\"dataframe\">\n",
       "  <thead>\n",
       "    <tr style=\"text-align: right;\">\n",
       "      <th></th>\n",
       "      <th>Job Title</th>\n",
       "      <th>Job Description</th>\n",
       "      <th>Rating</th>\n",
       "      <th>Company Name</th>\n",
       "      <th>Location</th>\n",
       "      <th>Headquarters</th>\n",
       "      <th>Size</th>\n",
       "      <th>Founded</th>\n",
       "      <th>Type of ownership</th>\n",
       "      <th>Industry</th>\n",
       "      <th>...</th>\n",
       "      <th>tableau</th>\n",
       "      <th>data visualization</th>\n",
       "      <th>aws</th>\n",
       "      <th>docker</th>\n",
       "      <th>deployment</th>\n",
       "      <th>job_simp</th>\n",
       "      <th>experience_lvl</th>\n",
       "      <th>num_competitors</th>\n",
       "      <th>company_age</th>\n",
       "      <th>job_state</th>\n",
       "    </tr>\n",
       "  </thead>\n",
       "  <tbody>\n",
       "    <tr>\n",
       "      <th>0</th>\n",
       "      <td>data scientist</td>\n",
       "      <td>data scientist\\nlocation: albuquerque, nm\\nedu...</td>\n",
       "      <td>3.8</td>\n",
       "      <td>Tecolote Research</td>\n",
       "      <td>Albuquerque, NM</td>\n",
       "      <td>Goleta, CA</td>\n",
       "      <td>501 to 1000 employees</td>\n",
       "      <td>1973</td>\n",
       "      <td>Company - Private</td>\n",
       "      <td>Aerospace &amp; Defense</td>\n",
       "      <td>...</td>\n",
       "      <td>1</td>\n",
       "      <td>1</td>\n",
       "      <td>0</td>\n",
       "      <td>0</td>\n",
       "      <td>0</td>\n",
       "      <td>data scientist</td>\n",
       "      <td>na</td>\n",
       "      <td>0</td>\n",
       "      <td>49</td>\n",
       "      <td>NM</td>\n",
       "    </tr>\n",
       "    <tr>\n",
       "      <th>1</th>\n",
       "      <td>healthcare data scientist</td>\n",
       "      <td>what you will do:\\n\\ni. general summary\\n\\nthe...</td>\n",
       "      <td>3.4</td>\n",
       "      <td>University of Maryland Medical System</td>\n",
       "      <td>Linthicum, MD</td>\n",
       "      <td>Baltimore, MD</td>\n",
       "      <td>10000+ employees</td>\n",
       "      <td>1984</td>\n",
       "      <td>Other Organization</td>\n",
       "      <td>Health Care Services &amp; Hospitals</td>\n",
       "      <td>...</td>\n",
       "      <td>0</td>\n",
       "      <td>1</td>\n",
       "      <td>0</td>\n",
       "      <td>0</td>\n",
       "      <td>0</td>\n",
       "      <td>data scientist</td>\n",
       "      <td>na</td>\n",
       "      <td>0</td>\n",
       "      <td>38</td>\n",
       "      <td>MD</td>\n",
       "    </tr>\n",
       "  </tbody>\n",
       "</table>\n",
       "<p>2 rows × 38 columns</p>\n",
       "</div>"
      ],
      "text/plain": [
       "                   Job Title  \\\n",
       "0             data scientist   \n",
       "1  healthcare data scientist   \n",
       "\n",
       "                                     Job Description  Rating  \\\n",
       "0  data scientist\\nlocation: albuquerque, nm\\nedu...     3.8   \n",
       "1  what you will do:\\n\\ni. general summary\\n\\nthe...     3.4   \n",
       "\n",
       "                            Company Name         Location   Headquarters  \\\n",
       "0                      Tecolote Research  Albuquerque, NM     Goleta, CA   \n",
       "1  University of Maryland Medical System    Linthicum, MD  Baltimore, MD   \n",
       "\n",
       "                    Size  Founded   Type of ownership  \\\n",
       "0  501 to 1000 employees     1973   Company - Private   \n",
       "1       10000+ employees     1984  Other Organization   \n",
       "\n",
       "                           Industry  ... tableau data visualization aws  \\\n",
       "0               Aerospace & Defense  ...       1                  1   0   \n",
       "1  Health Care Services & Hospitals  ...       0                  1   0   \n",
       "\n",
       "   docker  deployment        job_simp  experience_lvl  num_competitors  \\\n",
       "0       0           0  data scientist              na                0   \n",
       "1       0           0  data scientist              na                0   \n",
       "\n",
       "   company_age  job_state  \n",
       "0           49         NM  \n",
       "1           38         MD  \n",
       "\n",
       "[2 rows x 38 columns]"
      ]
     },
     "execution_count": 2,
     "metadata": {},
     "output_type": "execute_result"
    }
   ],
   "source": [
    "df = pd.read_csv(\"cleaned_data.csv\").drop(columns=['Unnamed: 0'])\n",
    "df.head(2)"
   ]
  },
  {
   "cell_type": "code",
   "execution_count": 3,
   "metadata": {},
   "outputs": [
    {
     "name": "stdout",
     "output_type": "stream",
     "text": [
      "numerical columns = 22\n",
      "categorical columns = 7\n"
     ]
    }
   ],
   "source": [
    "## separating the categorical features and numerical features\n",
    "num_cols = list(set(df.select_dtypes(exclude=[object]).columns) - set (['min_salary', 'max_salary']))\n",
    "cat_cols = list(set(df.select_dtypes(include=[object]).columns) - set(['Job Title', 'Job Description', 'Company Name', 'Competitors', 'Industry', 'Location', 'Headquarters']))  \n",
    "\n",
    "print(f'numerical columns = {len(num_cols)}')\n",
    "print(f'categorical columns = {len(cat_cols)}')"
   ]
  },
  {
   "cell_type": "markdown",
   "metadata": {},
   "source": [
    "# `02` Data preprocessing"
   ]
  },
  {
   "cell_type": "markdown",
   "metadata": {},
   "source": [
    "## `-` Handle Nulls Values"
   ]
  },
  {
   "cell_type": "markdown",
   "metadata": {},
   "source": [
    "First Handle categorical columns null values"
   ]
  },
  {
   "cell_type": "code",
   "execution_count": 4,
   "metadata": {},
   "outputs": [
    {
     "data": {
      "text/plain": [
       "experience_lvl        0\n",
       "Size                  1\n",
       "Sector               10\n",
       "Type of ownership     1\n",
       "job_state             0\n",
       "Revenue               1\n",
       "job_simp              0\n",
       "dtype: int64"
      ]
     },
     "execution_count": 4,
     "metadata": {},
     "output_type": "execute_result"
    }
   ],
   "source": [
    "df[cat_cols].isnull().sum()"
   ]
  },
  {
   "cell_type": "code",
   "execution_count": 5,
   "metadata": {},
   "outputs": [],
   "source": [
    "for column in cat_cols:\n",
    "    df[column].fillna(df[column].mode()[0], inplace=True)"
   ]
  },
  {
   "cell_type": "code",
   "execution_count": 6,
   "metadata": {},
   "outputs": [
    {
     "data": {
      "text/plain": [
       "experience_lvl       0\n",
       "Size                 0\n",
       "Sector               0\n",
       "Type of ownership    0\n",
       "job_state            0\n",
       "Revenue              0\n",
       "job_simp             0\n",
       "dtype: int64"
      ]
     },
     "execution_count": 6,
     "metadata": {},
     "output_type": "execute_result"
    }
   ],
   "source": [
    "df[cat_cols].isna().sum()"
   ]
  },
  {
   "cell_type": "markdown",
   "metadata": {},
   "source": [
    "handle numeric columns null values\n",
    "If it follows a normal distribution, therefore we can replace null values with the mean of the distribution.\n",
    "and if it follows right/left skewed, we replace null values with median"
   ]
  },
  {
   "cell_type": "code",
   "execution_count": 7,
   "metadata": {},
   "outputs": [
    {
     "data": {
      "text/plain": [
       "docker                      0\n",
       "avg_salary                  0\n",
       "sql                         0\n",
       "num_competitors             0\n",
       "data visualization          0\n",
       "deployment                  0\n",
       "Rating                      0\n",
       "tableau                     0\n",
       "c++                         0\n",
       "r programming               0\n",
       "Founded                     0\n",
       "python                      0\n",
       "spark                       0\n",
       "excel                       0\n",
       "hourly                      0\n",
       "scikit                      0\n",
       "employer_provided_salary    0\n",
       "company_age                 0\n",
       "keras                       0\n",
       "powerbi                     0\n",
       "aws                         0\n",
       "tensorflow                  0\n",
       "dtype: int64"
      ]
     },
     "execution_count": 7,
     "metadata": {},
     "output_type": "execute_result"
    }
   ],
   "source": [
    "df[num_cols].isna().sum()"
   ]
  },
  {
   "cell_type": "code",
   "execution_count": 8,
   "metadata": {},
   "outputs": [
    {
     "data": {
      "image/png": "[encoded data removed]",
      "text/plain": [
       "<Figure size 1080x360 with 3 Axes>"
      ]
     },
     "metadata": {
      "needs_background": "light"
     },
     "output_type": "display_data"
    }
   ],
   "source": [
    "import statsmodels.api as sm\n",
    "\n",
    "cols = ['Rating', 'company_age', 'Founded']\n",
    "plt.figure(figsize=(15,5))\n",
    "for i, col in enumerate(df[cols]):\n",
    "    ax = plt.subplot(1, 3, i+1)\n",
    "    ax.set_title(col)\n",
    "    sm.qqplot(df[col],fit = False, line='q', ax = ax)\n",
    "plt.show()"
   ]
  },
  {
   "cell_type": "code",
   "execution_count": 9,
   "metadata": {},
   "outputs": [],
   "source": [
    "df[\"Rating\"] = df[\"Rating\"].fillna(df[\"Rating\"].mean())\n",
    "df[\"company_age\"] = df[\"company_age\"].fillna(df[\"company_age\"].median())\n",
    "df[\"Founded\"] = df[\"Founded\"].fillna(df[\"Founded\"].median())"
   ]
  },
  {
   "cell_type": "markdown",
   "metadata": {},
   "source": [
    "## `-` Encode Categorical Features"
   ]
  },
  {
   "cell_type": "code",
   "execution_count": 10,
   "metadata": {},
   "outputs": [
    {
     "data": {
      "text/html": [
       "<div>\n",
       "<style scoped>\n",
       "    .dataframe tbody tr th:only-of-type {\n",
       "        vertical-align: middle;\n",
       "    }\n",
       "\n",
       "    .dataframe tbody tr th {\n",
       "        vertical-align: top;\n",
       "    }\n",
       "\n",
       "    .dataframe thead th {\n",
       "        text-align: right;\n",
       "    }\n",
       "</style>\n",
       "<table border=\"1\" class=\"dataframe\">\n",
       "  <thead>\n",
       "    <tr style=\"text-align: right;\">\n",
       "      <th></th>\n",
       "      <th>experience_lvl</th>\n",
       "      <th>Size</th>\n",
       "      <th>Sector</th>\n",
       "      <th>Type of ownership</th>\n",
       "      <th>job_state</th>\n",
       "      <th>Revenue</th>\n",
       "      <th>job_simp</th>\n",
       "    </tr>\n",
       "  </thead>\n",
       "  <tbody>\n",
       "    <tr>\n",
       "      <th>0</th>\n",
       "      <td>na</td>\n",
       "      <td>501 to 1000 employees</td>\n",
       "      <td>Aerospace &amp; Defense</td>\n",
       "      <td>Company - Private</td>\n",
       "      <td>NM</td>\n",
       "      <td>$50 to $100 million (USD)</td>\n",
       "      <td>data scientist</td>\n",
       "    </tr>\n",
       "    <tr>\n",
       "      <th>1</th>\n",
       "      <td>na</td>\n",
       "      <td>10000+ employees</td>\n",
       "      <td>Health Care</td>\n",
       "      <td>Other Organization</td>\n",
       "      <td>MD</td>\n",
       "      <td>$2 to $5 billion (USD)</td>\n",
       "      <td>data scientist</td>\n",
       "    </tr>\n",
       "    <tr>\n",
       "      <th>2</th>\n",
       "      <td>na</td>\n",
       "      <td>501 to 1000 employees</td>\n",
       "      <td>Business Services</td>\n",
       "      <td>Company - Private</td>\n",
       "      <td>FL</td>\n",
       "      <td>$100 to $500 million (USD)</td>\n",
       "      <td>data scientist</td>\n",
       "    </tr>\n",
       "    <tr>\n",
       "      <th>3</th>\n",
       "      <td>na</td>\n",
       "      <td>1001 to 5000 employees</td>\n",
       "      <td>Oil, Gas, Energy &amp; Utilities</td>\n",
       "      <td>Government</td>\n",
       "      <td>WA</td>\n",
       "      <td>$500 million to $1 billion (USD)</td>\n",
       "      <td>data scientist</td>\n",
       "    </tr>\n",
       "    <tr>\n",
       "      <th>4</th>\n",
       "      <td>na</td>\n",
       "      <td>51 to 200 employees</td>\n",
       "      <td>Business Services</td>\n",
       "      <td>Company - Private</td>\n",
       "      <td>NY</td>\n",
       "      <td>Unknown / Non-Applicable</td>\n",
       "      <td>data scientist</td>\n",
       "    </tr>\n",
       "    <tr>\n",
       "      <th>...</th>\n",
       "      <td>...</td>\n",
       "      <td>...</td>\n",
       "      <td>...</td>\n",
       "      <td>...</td>\n",
       "      <td>...</td>\n",
       "      <td>...</td>\n",
       "      <td>...</td>\n",
       "    </tr>\n",
       "    <tr>\n",
       "      <th>737</th>\n",
       "      <td>senior</td>\n",
       "      <td>10000+ employees</td>\n",
       "      <td>Biotech &amp; Pharmaceuticals</td>\n",
       "      <td>Company - Public</td>\n",
       "      <td>MA</td>\n",
       "      <td>$10+ billion (USD)</td>\n",
       "      <td>na</td>\n",
       "    </tr>\n",
       "    <tr>\n",
       "      <th>738</th>\n",
       "      <td>senior</td>\n",
       "      <td>1001 to 5000 employees</td>\n",
       "      <td>Information Technology</td>\n",
       "      <td>Company - Public</td>\n",
       "      <td>TN</td>\n",
       "      <td>$100 to $500 million (USD)</td>\n",
       "      <td>data engineer</td>\n",
       "    </tr>\n",
       "    <tr>\n",
       "      <th>739</th>\n",
       "      <td>na</td>\n",
       "      <td>501 to 1000 employees</td>\n",
       "      <td>Education</td>\n",
       "      <td>College / University</td>\n",
       "      <td>PA</td>\n",
       "      <td>Unknown / Non-Applicable</td>\n",
       "      <td>na</td>\n",
       "    </tr>\n",
       "    <tr>\n",
       "      <th>740</th>\n",
       "      <td>manager</td>\n",
       "      <td>1 to 50 employees</td>\n",
       "      <td>Business Services</td>\n",
       "      <td>Company - Private</td>\n",
       "      <td>PA</td>\n",
       "      <td>$5 to $10 million (USD)</td>\n",
       "      <td>data scientist</td>\n",
       "    </tr>\n",
       "    <tr>\n",
       "      <th>741</th>\n",
       "      <td>na</td>\n",
       "      <td>501 to 1000 employees</td>\n",
       "      <td>Government</td>\n",
       "      <td>Nonprofit Organization</td>\n",
       "      <td>OH</td>\n",
       "      <td>$50 to $100 million (USD)</td>\n",
       "      <td>Research Scientist</td>\n",
       "    </tr>\n",
       "  </tbody>\n",
       "</table>\n",
       "<p>742 rows × 7 columns</p>\n",
       "</div>"
      ],
      "text/plain": [
       "    experience_lvl                    Size                        Sector  \\\n",
       "0               na   501 to 1000 employees           Aerospace & Defense   \n",
       "1               na        10000+ employees                   Health Care   \n",
       "2               na   501 to 1000 employees             Business Services   \n",
       "3               na  1001 to 5000 employees  Oil, Gas, Energy & Utilities   \n",
       "4               na     51 to 200 employees             Business Services   \n",
       "..             ...                     ...                           ...   \n",
       "737         senior        10000+ employees     Biotech & Pharmaceuticals   \n",
       "738         senior  1001 to 5000 employees        Information Technology   \n",
       "739             na   501 to 1000 employees                     Education   \n",
       "740        manager       1 to 50 employees             Business Services   \n",
       "741             na   501 to 1000 employees                    Government   \n",
       "\n",
       "          Type of ownership job_state                           Revenue  \\\n",
       "0         Company - Private        NM         $50 to $100 million (USD)   \n",
       "1        Other Organization        MD            $2 to $5 billion (USD)   \n",
       "2         Company - Private        FL        $100 to $500 million (USD)   \n",
       "3                Government        WA  $500 million to $1 billion (USD)   \n",
       "4         Company - Private        NY          Unknown / Non-Applicable   \n",
       "..                      ...       ...                               ...   \n",
       "737        Company - Public        MA                $10+ billion (USD)   \n",
       "738        Company - Public        TN        $100 to $500 million (USD)   \n",
       "739    College / University        PA          Unknown / Non-Applicable   \n",
       "740       Company - Private        PA           $5 to $10 million (USD)   \n",
       "741  Nonprofit Organization        OH         $50 to $100 million (USD)   \n",
       "\n",
       "               job_simp  \n",
       "0        data scientist  \n",
       "1        data scientist  \n",
       "2        data scientist  \n",
       "3        data scientist  \n",
       "4        data scientist  \n",
       "..                  ...  \n",
       "737                  na  \n",
       "738       data engineer  \n",
       "739                  na  \n",
       "740      data scientist  \n",
       "741  Research Scientist  \n",
       "\n",
       "[742 rows x 7 columns]"
      ]
     },
     "execution_count": 10,
     "metadata": {},
     "output_type": "execute_result"
    }
   ],
   "source": [
    "df[cat_cols]"
   ]
  },
  {
   "cell_type": "code",
   "execution_count": 11,
   "metadata": {},
   "outputs": [],
   "source": [
    "dummy_encoded_df = pd.get_dummies(df[cat_cols], drop_first = True)"
   ]
  },
  {
   "cell_type": "code",
   "execution_count": 12,
   "metadata": {},
   "outputs": [
    {
     "data": {
      "text/html": [
       "<div>\n",
       "<style scoped>\n",
       "    .dataframe tbody tr th:only-of-type {\n",
       "        vertical-align: middle;\n",
       "    }\n",
       "\n",
       "    .dataframe tbody tr th {\n",
       "        vertical-align: top;\n",
       "    }\n",
       "\n",
       "    .dataframe thead th {\n",
       "        text-align: right;\n",
       "    }\n",
       "</style>\n",
       "<table border=\"1\" class=\"dataframe\">\n",
       "  <thead>\n",
       "    <tr style=\"text-align: right;\">\n",
       "      <th></th>\n",
       "      <th>experience_lvl_consult</th>\n",
       "      <th>experience_lvl_director</th>\n",
       "      <th>experience_lvl_jr</th>\n",
       "      <th>experience_lvl_manager</th>\n",
       "      <th>experience_lvl_na</th>\n",
       "      <th>experience_lvl_senior</th>\n",
       "      <th>Size_10000+ employees</th>\n",
       "      <th>Size_1001 to 5000 employees</th>\n",
       "      <th>Size_201 to 500 employees</th>\n",
       "      <th>Size_5001 to 10000 employees</th>\n",
       "      <th>...</th>\n",
       "      <th>Revenue_Less than $1 million (USD)</th>\n",
       "      <th>Revenue_Unknown / Non-Applicable</th>\n",
       "      <th>job_simp_Research Scientist</th>\n",
       "      <th>job_simp_SWE</th>\n",
       "      <th>job_simp_data analyst</th>\n",
       "      <th>job_simp_data engineer</th>\n",
       "      <th>job_simp_data scientist</th>\n",
       "      <th>job_simp_director</th>\n",
       "      <th>job_simp_manager</th>\n",
       "      <th>job_simp_na</th>\n",
       "    </tr>\n",
       "  </thead>\n",
       "  <tbody>\n",
       "    <tr>\n",
       "      <th>0</th>\n",
       "      <td>0</td>\n",
       "      <td>0</td>\n",
       "      <td>0</td>\n",
       "      <td>0</td>\n",
       "      <td>1</td>\n",
       "      <td>0</td>\n",
       "      <td>0</td>\n",
       "      <td>0</td>\n",
       "      <td>0</td>\n",
       "      <td>0</td>\n",
       "      <td>...</td>\n",
       "      <td>0</td>\n",
       "      <td>0</td>\n",
       "      <td>0</td>\n",
       "      <td>0</td>\n",
       "      <td>0</td>\n",
       "      <td>0</td>\n",
       "      <td>1</td>\n",
       "      <td>0</td>\n",
       "      <td>0</td>\n",
       "      <td>0</td>\n",
       "    </tr>\n",
       "    <tr>\n",
       "      <th>1</th>\n",
       "      <td>0</td>\n",
       "      <td>0</td>\n",
       "      <td>0</td>\n",
       "      <td>0</td>\n",
       "      <td>1</td>\n",
       "      <td>0</td>\n",
       "      <td>1</td>\n",
       "      <td>0</td>\n",
       "      <td>0</td>\n",
       "      <td>0</td>\n",
       "      <td>...</td>\n",
       "      <td>0</td>\n",
       "      <td>0</td>\n",
       "      <td>0</td>\n",
       "      <td>0</td>\n",
       "      <td>0</td>\n",
       "      <td>0</td>\n",
       "      <td>1</td>\n",
       "      <td>0</td>\n",
       "      <td>0</td>\n",
       "      <td>0</td>\n",
       "    </tr>\n",
       "  </tbody>\n",
       "</table>\n",
       "<p>2 rows × 102 columns</p>\n",
       "</div>"
      ],
      "text/plain": [
       "   experience_lvl_consult  experience_lvl_director  experience_lvl_jr  \\\n",
       "0                       0                        0                  0   \n",
       "1                       0                        0                  0   \n",
       "\n",
       "   experience_lvl_manager  experience_lvl_na  experience_lvl_senior  \\\n",
       "0                       0                  1                      0   \n",
       "1                       0                  1                      0   \n",
       "\n",
       "   Size_10000+ employees  Size_1001 to 5000 employees  \\\n",
       "0                      0                            0   \n",
       "1                      1                            0   \n",
       "\n",
       "   Size_201 to 500 employees  Size_5001 to 10000 employees  ...  \\\n",
       "0                          0                             0  ...   \n",
       "1                          0                             0  ...   \n",
       "\n",
       "   Revenue_Less than $1 million (USD)  Revenue_Unknown / Non-Applicable  \\\n",
       "0                                   0                                 0   \n",
       "1                                   0                                 0   \n",
       "\n",
       "   job_simp_Research Scientist  job_simp_SWE  job_simp_data analyst  \\\n",
       "0                            0             0                      0   \n",
       "1                            0             0                      0   \n",
       "\n",
       "   job_simp_data engineer  job_simp_data scientist  job_simp_director  \\\n",
       "0                       0                        1                  0   \n",
       "1                       0                        1                  0   \n",
       "\n",
       "   job_simp_manager  job_simp_na  \n",
       "0                 0            0  \n",
       "1                 0            0  \n",
       "\n",
       "[2 rows x 102 columns]"
      ]
     },
     "execution_count": 12,
     "metadata": {},
     "output_type": "execute_result"
    }
   ],
   "source": [
    "dummy_encoded_df.head(2)"
   ]
  },
  {
   "cell_type": "code",
   "execution_count": 13,
   "metadata": {},
   "outputs": [
    {
     "data": {
      "text/plain": [
       "(742, 124)"
      ]
     },
     "execution_count": 13,
     "metadata": {},
     "output_type": "execute_result"
    }
   ],
   "source": [
    "# concatenate the numerical and dummy encoded categorical variables column-wise\n",
    "df_dummy = pd.concat([df[num_cols], dummy_encoded_df], axis=1)\n",
    "\n",
    "# display data with dummy variables\n",
    "df_dummy.shape"
   ]
  },
  {
   "cell_type": "markdown",
   "metadata": {},
   "source": [
    "## `-` Split predictors "
   ]
  },
  {
   "cell_type": "code",
   "execution_count": 15,
   "metadata": {},
   "outputs": [],
   "source": [
    "df_dummy = sm.add_constant(df_dummy)"
   ]
  },
  {
   "cell_type": "code",
   "execution_count": 16,
   "metadata": {},
   "outputs": [],
   "source": [
    "X = df_dummy.drop([\"avg_salary\"], axis = 1)\n",
    "y = df_dummy[[\"avg_salary\"]]"
   ]
  },
  {
   "cell_type": "markdown",
   "metadata": {},
   "source": [
    "## `-` Drop Highly correlated features "
   ]
  },
  {
   "cell_type": "code",
   "execution_count": 18,
   "metadata": {},
   "outputs": [],
   "source": [
    "# inspecting the correlation between each couple of features\n",
    "num_cols_wthout_response_variable = X.columns\n",
    "corr_matrix = X.corr()\n",
    "# corr_matrix"
   ]
  },
  {
   "cell_type": "code",
   "execution_count": 19,
   "metadata": {},
   "outputs": [
    {
     "name": "stdout",
     "output_type": "stream",
     "text": [
      "we will drop the column  experience_lvl_na\n",
      "we will drop the column  Type of ownership_Government\n"
     ]
    }
   ],
   "source": [
    "for row_idx in range(corr_matrix.values.shape[0]):\n",
    "    for col_idx in range(row_idx + 1,corr_matrix.values.shape[0]):\n",
    "        if (np.abs(corr_matrix.values[row_idx, col_idx]) > 0.7):\n",
    "            var_row_corr_wth_response = np.abs(np.corrcoef(y['avg_salary'], \n",
    "                                                    X[num_cols_wthout_response_variable[row_idx]])[0, 1])\n",
    "            var_col_corr_wth_response = np.abs(np.corrcoef(y['avg_salary'], \n",
    "                                                    X[num_cols_wthout_response_variable[col_idx]])[0, 1])\n",
    "            \n",
    "            if var_row_corr_wth_response > var_col_corr_wth_response:\n",
    "                print('we will drop the column ', num_cols_wthout_response_variable[col_idx])\n",
    "                X = X.drop(columns = [num_cols_wthout_response_variable[col_idx]])\n",
    "            else:\n",
    "                print('we will drop the column ', num_cols_wthout_response_variable[row_idx])\n",
    "                X = X.drop(columns = [num_cols_wthout_response_variable[row_idx]])"
   ]
  },
  {
   "cell_type": "markdown",
   "metadata": {},
   "source": [
    "## `-` Feature Selection"
   ]
  },
  {
   "cell_type": "code",
   "execution_count": 28,
   "metadata": {},
   "outputs": [
    {
     "name": "stdout",
     "output_type": "stream",
     "text": [
      "shape of X_train : (593, 42)\n",
      "shape of X_test  : (149, 42)\n",
      "shape of y_train : (593, 1)\n",
      "shape of y_test  : (149, 1)\n"
     ]
    },
    {
     "name": "stderr",
     "output_type": "stream",
     "text": [
      "c:\\Users\\CRIZMA MEGA STORE\\AppData\\Local\\Programs\\Python\\Python39\\lib\\site-packages\\sklearn\\utils\\validation.py:1111: DataConversionWarning: A column-vector y was passed when a 1d array was expected. Please change the shape of y to (n_samples, ), for example using ravel().\n",
      "  y = column_or_1d(y, warn=True)\n"
     ]
    }
   ],
   "source": [
    "from sklearn.feature_selection import SelectKBest, f_regression\n",
    "\n",
    "select_feature = SelectKBest(f_regression, k=42).fit_transform(X,y)\n",
    "X2 = select_feature.transform(X)"
   ]
  },
  {
   "cell_type": "markdown",
   "metadata": {},
   "source": [
    "## `-` Train Test Split"
   ]
  },
  {
   "cell_type": "code",
   "execution_count": null,
   "metadata": {},
   "outputs": [],
   "source": [
    "X_train, X_test, y_train, y_test = train_test_split(X2, y, test_size = 0.2, random_state = 42)\n",
    "print(\"shape of X_train :\",X_train.shape)\n",
    "print(\"shape of X_test  :\",X_test.shape)\n",
    "print(\"shape of y_train :\",y_train.shape)\n",
    "print(\"shape of y_test  :\",y_test.shape)"
   ]
  },
  {
   "cell_type": "markdown",
   "metadata": {},
   "source": [
    "## `-` Evaluation Metrices"
   ]
  },
  {
   "cell_type": "code",
   "execution_count": 30,
   "metadata": {},
   "outputs": [],
   "source": [
    "from sklearn.metrics import mean_absolute_error, mean_squared_error\n",
    "\n",
    "def adj_r_squared(X, actual: np.ndarray, predicted: np.ndarray): \n",
    "  r_squ = r2_score(actual, predicted)\n",
    "  return (1-(1-r_squ)*((X.shape[0]-1)/(X.shape[0]-X.shape[1]-1)))\n",
    "\n",
    "    \n",
    "def Evaluation_report (X_train, Y_train, y_train_pred, X_test, Y_test, y_test_pred):\n",
    "  print('               :  Train Data     |   Test Data ')\n",
    "  print('mse            : ', mean_squared_error(Y_train, y_train_pred), '  | ', mean_squared_error(Y_test, y_test_pred))\n",
    "  print('mae            : ', mean_absolute_error(Y_train, y_train_pred), '  | ',  mean_absolute_error(Y_test, y_test_pred))\n",
    "  print('r_squared      : ', r2_score(Y_train, y_train_pred), '  | ', r2_score(Y_test, y_test_pred))\n",
    "  print('adj_r_squared  : ', adj_r_squared(X_train, Y_train, y_train_pred), '  | ', adj_r_squared(X_test, Y_test, y_test_pred))\n"
   ]
  },
  {
   "cell_type": "markdown",
   "metadata": {},
   "source": [
    "# `03` Model Building and Tuning"
   ]
  },
  {
   "cell_type": "markdown",
   "metadata": {},
   "source": [
    "## `-` Decision Tree"
   ]
  },
  {
   "cell_type": "code",
   "execution_count": 76,
   "metadata": {},
   "outputs": [],
   "source": [
    "# Tune the model\n",
    "max_depth = [4, 5, 6]\n",
    "max_features = [x for x in range(1, 5)]\n",
    "ccp_alpha = [x for x in np.linspace(0.0001, 0.01, num = 5)]\n",
    "\n",
    "random_grid = {\n",
    "               'max_depth': max_depth,\n",
    "               'max_features' : max_features, \n",
    "               'ccp_alpha' : ccp_alpha,\n",
    "               'criterion' : ['absolute_error', 'squared_error']\n",
    "               }\n",
    "dt = DecisionTreeRegressor()"
   ]
  },
  {
   "cell_type": "code",
   "execution_count": 77,
   "metadata": {},
   "outputs": [
    {
     "name": "stdout",
     "output_type": "stream",
     "text": [
      "Fitting 3 folds for each of 120 candidates, totalling 360 fits\n"
     ]
    },
    {
     "data": {
      "text/plain": [
       "{'ccp_alpha': 0.002575,\n",
       " 'criterion': 'absolute_error',\n",
       " 'max_depth': 6,\n",
       " 'max_features': 4}"
      ]
     },
     "execution_count": 77,
     "metadata": {},
     "output_type": "execute_result"
    }
   ],
   "source": [
    "grid_search = GridSearchCV(estimator = dt, \n",
    "                           param_grid = random_grid, \n",
    "                           scoring= 'neg_mean_absolute_error',\n",
    "                           cv = 3, \n",
    "                           verbose = 1).fit(X_train, y_train.values.ravel())\n",
    "grid_search.best_params_"
   ]
  },
  {
   "cell_type": "code",
   "execution_count": 86,
   "metadata": {},
   "outputs": [],
   "source": [
    "# build the model\n",
    "decision_tree = DecisionTreeRegressor(ccp_alpha = 0.002, criterion = 'absolute_error', max_depth = 6, max_features= 4, random_state = 42) \n",
    "# fit the model\n",
    "decision_tree_model = decision_tree.fit(X_train, y_train) \n",
    "y_pred_DT=decision_tree_model.predict(X_test)\n",
    "y_train_pred = decision_tree_model.predict(X_train)\n",
    "# evaluate the model\n",
    "Evaluation_report (X_train, y_train, y_train_pred, X_test, y_test, y_pred_DT)"
   ]
  },
  {
   "cell_type": "markdown",
   "metadata": {},
   "source": [
    "## `-` Random Forest"
   ]
  },
  {
   "cell_type": "code",
   "execution_count": 48,
   "metadata": {},
   "outputs": [],
   "source": [
    "#Tune the model\n",
    "n_estimators = [400, 500, 700]\n",
    "max_depth = [4, 5, 6]\n",
    "max_samples = [250, 300, 350]\n",
    "min_samples_split = [5, 10, 15]\n",
    "max_features = ['sqrt', 'log2']\n",
    "random_grid = {'n_estimators': n_estimators,\n",
    "               'max_depth': max_depth,\n",
    "               'criterion' : ['absolute_error', 'squared_error'],\n",
    "               'max_samples': max_samples,\n",
    "               'min_samples_split': min_samples_split,\n",
    "               'max_features' : max_features\n",
    "               }\n",
    "rf = RandomForestRegressor(random_state = 42)"
   ]
  },
  {
   "cell_type": "code",
   "execution_count": 52,
   "metadata": {},
   "outputs": [],
   "source": [
    "grid_search = GridSearchCV(estimator = rf, \n",
    "                           param_grid = random_grid, \n",
    "                           scoring= 'neg_mean_absolute_error',\n",
    "                           cv = 3, \n",
    "                           verbose = 1).fit(X_train, y_train.values.ravel())\n",
    "grid_search.best_params_"
   ]
  },
  {
   "cell_type": "code",
   "execution_count": 101,
   "metadata": {},
   "outputs": [
    {
     "name": "stdout",
     "output_type": "stream",
     "text": [
      "               :  Train Data     |   Test Data \n",
      "mse            :  1129.3584316158533   |  1449.5488489722761\n",
      "mae            :  25.97523872198857   |  30.004219922065076\n",
      "r_squared      :  0.6127593192895484   |  0.5443408104099199\n",
      "adj_r_squared  :  0.5831882127625685   |  0.36379660321385043\n"
     ]
    }
   ],
   "source": [
    "# build the model\n",
    "rf_clf = RandomForestRegressor(n_estimators=700,\n",
    "                                max_depth=6,\n",
    "                                min_samples_split= 5,\n",
    "                                max_samples=350,\n",
    "                                max_features= 'sqrt',\n",
    "                                criterion = 'squared_error',\n",
    "                                bootstrap=True,\n",
    "                                random_state = 42)\n",
    "# fit the model\n",
    "rf_clf.fit(X_train, y_train.values.flatten())\n",
    "rf_test_pred = rf_clf.predict(X_test)\n",
    "rf_train_pred = rf_clf.predict(X_train)\n",
    "# evaluate the model\n",
    "Evaluation_report(X_train, y_train, rf_train_pred, X_test, y_test, rf_test_pred)"
   ]
  },
  {
   "cell_type": "markdown",
   "metadata": {},
   "source": [
    "## `-` AdaBoost"
   ]
  },
  {
   "cell_type": "code",
   "execution_count": 99,
   "metadata": {},
   "outputs": [
    {
     "name": "stdout",
     "output_type": "stream",
     "text": [
      "               :  Train Data     |   Test Data \n",
      "mse            :  1494.1664373346744   |  1795.000022844203\n",
      "mae            :  32.252449539695625   |  35.495296841153255\n",
      "r_squared      :  0.487671927626783   |  0.4357497808347348\n",
      "adj_r_squared  :  0.44854869300919187   |  0.21217893927868636\n"
     ]
    }
   ],
   "source": [
    "from sklearn.ensemble import AdaBoostRegressor\n",
    "# build the model\n",
    "adaboost = AdaBoostRegressor(random_state=42)\n",
    "# fit the model\n",
    "adaboost.fit(X_train, y_train.values.flatten())\n",
    "y_test_adaboost  = adaboost.predict(X_test)\n",
    "y_train_adaboost  = adaboost.predict(X_train)\n",
    "# evaluate the model\n",
    "Evaluation_report(X_train, y_train, y_train_adaboost, X_test, y_test, y_test_adaboost)"
   ]
  },
  {
   "cell_type": "markdown",
   "metadata": {},
   "source": [
    "## `-` Ensample"
   ]
  },
  {
   "cell_type": "code",
   "execution_count": 98,
   "metadata": {},
   "outputs": [
    {
     "name": "stdout",
     "output_type": "stream",
     "text": [
      "               :  Train Data     |   Test Data \n",
      "mse            :  319.7238719067145   |  863.2875421724793\n",
      "mae            :  12.424255829737996   |  20.874251224130077\n",
      "r_squared      :  0.890371306105721   |  0.72862942692244\n",
      "adj_r_squared  :  0.8819996603901579   |  0.621105237589822\n"
     ]
    }
   ],
   "source": [
    "from sklearn.ensemble import BaggingRegressor\n",
    "# build the model\n",
    "bag_clf = BaggingRegressor(DecisionTreeRegressor(random_state=42), n_estimators=1000 , max_samples= 350, bootstrap=True)\n",
    "# fit the model\n",
    "bag_clf.fit(X_train, y_train.values.flatten())\n",
    "y_test_pred = bag_clf.predict(X_test) \n",
    "y_train_pred = bag_clf.predict(X_train) \n",
    "# evaluate the model\n",
    "Evaluation_report(X_train, y_train, y_train_pred, X_test, y_test, y_test_pred)"
   ]
  }
 ],
 "metadata": {
  "kernelspec": {
   "display_name": "Python 3.9.7 64-bit",
   "language": "python",
   "name": "python3"
  },
  "language_info": {
   "codemirror_mode": {
    "name": "ipython",
    "version": 3
   },
   "file_extension": ".py",
   "mimetype": "text/x-python",
   "name": "python",
   "nbconvert_exporter": "python",
   "pygments_lexer": "ipython3",
   "version": "3.9.7"
  },
  "orig_nbformat": 4,
  "vscode": {
   "interpreter": {
    "hash": "ef18e3dbb42e5a0552b179f6070bf9b968e76558f137baad2e880fbc20f413b9"
   }
  }
 },
 "nbformat": 4,
 "nbformat_minor": 2
}
